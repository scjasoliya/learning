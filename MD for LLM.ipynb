{
  "metadata": {
    "kernelspec": {
      "name": "python3",
      "display_name": "Python 3",
      "language": "python"
    },
    "language_info": {
      "name": "python",
      "version": "3.11.13",
      "mimetype": "text/x-python",
      "codemirror_mode": {
        "name": "ipython",
        "version": 3
      },
      "pygments_lexer": "ipython3",
      "nbconvert_exporter": "python",
      "file_extension": ".py"
    },
    "colab": {
      "name": "test",
      "provenance": [],
      "include_colab_link": true
    },
    "kaggle": {
      "accelerator": "none",
      "dataSources": [
        {
          "sourceId": 12640582,
          "sourceType": "datasetVersion",
          "datasetId": 7987903
        }
      ],
      "dockerImageVersionId": 31089,
      "isInternetEnabled": true,
      "language": "python",
      "sourceType": "notebook",
      "isGpuEnabled": false
    }
  },
  "nbformat_minor": 0,
  "nbformat": 4,
  "cells": [
    {
      "cell_type": "markdown",
      "metadata": {
        "id": "view-in-github",
        "colab_type": "text"
      },
      "source": [
        "<a href=\"https://colab.research.google.com/github/scjasoliya/learning/blob/main/MD%20for%20LLM.ipynb\" target=\"_parent\"><img src=\"https://colab.research.google.com/assets/colab-badge.svg\" alt=\"Open In Colab\"/></a>"
      ]
    },
    {
      "cell_type": "code",
      "source": [
        "from google.colab import files\n",
        "\n",
        "uploaded = files.upload()\n",
        "\n",
        "for fn in uploaded.keys():\n",
        "  print('User uploaded file \"{name}\" with length {length} bytes'.format(\n",
        "      name=fn, length=len(uploaded[fn])))"
      ],
      "metadata": {
        "id": "E8t7P5CQM_c1"
      },
      "execution_count": null,
      "outputs": []
    },
    {
      "cell_type": "code",
      "source": [
        "!pip install pymupdf # Install pymupdf if you haven't already\n",
        "\n",
        "import pymupdf\n",
        "from pymupdf import LLMPDF\n",
        "\n",
        "# Assuming the uploaded file is a PDF and its name is available in 'uploaded' dictionary\n",
        "if uploaded:\n",
        "    pdf_filename = list(uploaded.keys())[0] # Get the name of the first uploaded file\n",
        "    doc = pymupdf.open(pdf_filename)\n",
        "    llm = LLMPDF(doc)\n",
        "    markdown_output = llm.to_markdown()\n",
        "    print(markdown_output)\n",
        "else:\n",
        "    print(\"No file uploaded.\")"
      ],
      "metadata": {
        "id": "J_NZImCSNLbF"
      },
      "execution_count": null,
      "outputs": []
    },
    {
      "cell_type": "markdown",
      "source": [
        "Check whether the notebook is running on Colab or Kaggle, and set HF_TOKEN"
      ],
      "metadata": {
        "id": "qSZa3e216g16"
      }
    },
    {
      "cell_type": "code",
      "metadata": {
        "id": "c2454388"
      },
      "source": [
        "from google.colab import files\n",
        "\n",
        "if 'markdown_output' in locals():\n",
        "    with open('output.md', 'w') as f:\n",
        "        f.write(markdown_output)\n",
        "    files.download('output.md')\n",
        "else:\n",
        "    print(\"No markdown output found to download.\")"
      ],
      "execution_count": null,
      "outputs": []
    }
  ]
}