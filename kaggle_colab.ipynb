{
  "cells": [
    {
      "cell_type": "markdown",
      "metadata": {
        "colab_type": "text",
        "id": "view-in-github"
      },
      "source": [
        "<a href=\"https://colab.research.google.com/github/scjasoliya/P-ID_EXP/blob/main/export-vector-shapes-for-training.ipynb\" target=\"_parent\"><img src=\"https://colab.research.google.com/assets/colab-badge.svg\" alt=\"Open In Colab\"/></a>"
      ]
    },
    {
      "cell_type": "markdown",
      "metadata": {},
      "source": [
        "Check whether the notebook is running on Colab or Kaggle, and set HF_TOKEN"
      ]
    },
    {
      "cell_type": "code",
      "execution_count": null,
      "metadata": {},
      "outputs": [],
      "source": [
        "import os, sys\n",
        "def get_environment():\n",
        "    # Colab signals\n",
        "    if any(k in os.environ for k in (\"COLAB_RELEASE_TAG\", \"COLAB_GPU\", \"COLAB_TPU_ADDR\")):\n",
        "        try:\n",
        "            from google.colab import userdata # type: ignore\n",
        "            token = userdata.get(\"HF_TOKEN\")\n",
        "            if token:\n",
        "                os.environ[\"HF_TOKEN\"] = token\n",
        "        except Exception:\n",
        "            # Ignore any error (module missing, permission denied, etc.)\n",
        "            pass\n",
        "        return 'colab'\n",
        "    # Kaggle signal\n",
        "    elif 'KAGGLE_KERNEL_RUN_TYPE' in os.environ:\n",
        "        from kaggle_secrets import UserSecretsClient # type: ignore\n",
        "        token = UserSecretsClient().get_secret(\"HF_TOKEN\")\n",
        "        if token:\n",
        "            os.environ[\"HF_TOKEN\"] = token\n",
        "        return 'kaggle'\n",
        "    else:\n",
        "        return 'local'\n",
        "env = get_environment()\n",
        "print(f\"Running on: {env}\")\n",
        "# check if Hugging Face token is set\n",
        "if not os.environ[\"HF_TOKEN\"]:\n",
        "        print(\"⚠️ Hugging Face token not found. Public models will still work.\")"
      ]
    },
    {
      "cell_type": "code",
      "execution_count": null,
      "metadata": {},
      "outputs": [],
      "source": [
        "try:\n",
        "    from huggingface_hub import login # type: ignore\n",
        "    login(token=os.environ[\"HF_TOKEN\"])\n",
        "    print(\"✅ Logged in to Hugging Face Hub.\")\n",
        "except Exception as e:\n",
        "    print(f\"❌ Login failed: {e}\", file=sys.stderr)"
      ]
    },
    {
      "cell_type": "code",
      "execution_count": null,
      "metadata": {},
      "outputs": [],
      "source": [
        "\n",
        "# Construct path based on environment\n",
        "dataset_path= 'patelshailesh/abbreviations'\n",
        "owner, dataset_name = dataset_path.split('/')\n",
        "if env == 'colab':\n",
        "    from google.colab import userdata # type: ignore\n",
        "    os.environ[\"KAGGLE_KEY\"] = userdata.get('KAGGLE_KEY')\n",
        "    os.environ[\"KAGGLE_USERNAME\"] = userdata.get('KAGGLE_USERNAME')\n",
        "    import kagglehub # type: ignore\n",
        "    kagglehub.login()\n",
        "    dataset_path = kagglehub.dataset_download(dataset_path)\n",
        "\n",
        "    file_path = os.path.join(dataset_path, filename)\n",
        "elif env == 'kaggle':\n",
        "    file_path = f'/kaggle/input/{dataset_name}/{filename}'\n",
        "else:\n",
        "    raise ValueError(\"Unsupported environment. Use 'colab' or 'kaggle'.\")"
      ]
    },
    {
      "cell_type": "code",
      "execution_count": null,
      "metadata": {},
      "outputs": [],
      "source": [
        "if env == 'colab':\n",
        "    %pip install transformers datasets\n",
        "elif env == 'kaggle':\n",
        "    %pip install transformers datasets --quiet"
      ]
    },
    {
      "cell_type": "code",
      "execution_count": null,
      "metadata": {},
      "outputs": [],
      "source": [
        "\n",
        "dataset_file1_name = \"ABBREVIATIONS_DICT.json\"\n",
        "dataset_file2_name = 'specific_csv_data.csv'\n",
        "dataset_file3_name = 'test_data.csv'"
      ]
    },
    {
      "cell_type": "code",
      "execution_count": null,
      "metadata": {},
      "outputs": [],
      "source": [
        "repo_url = \"https://github.com/username/repo.git\"\n",
        "  if not os.path.exists('repo'):\n",
        "      %git clone {repo_url}"
      ]
    },
    {
      "cell_type": "code",
      "execution_count": null,
      "metadata": {},
      "outputs": [],
      "source": []
    },
    {
      "cell_type": "code",
      "execution_count": null,
      "metadata": {},
      "outputs": [],
      "source": []
    },
    {
      "cell_type": "code",
      "execution_count": null,
      "metadata": {},
      "outputs": [],
      "source": []
    },
    {
      "cell_type": "code",
      "execution_count": null,
      "metadata": {},
      "outputs": [],
      "source": []
    },
    {
      "cell_type": "code",
      "execution_count": null,
      "metadata": {},
      "outputs": [],
      "source": []
    },
    {
      "cell_type": "markdown",
      "metadata": {},
      "source": [
        "!git config --global user.email \"you@example.com\"\n",
        "  !git config --global user.name \"Your Name\"\n",
        "  !git add notebook.ipynb\n",
        "  !git commit -m \"Update notebook\"\n",
        "  !git push origin main\n",
        "  ```"
      ]
    }
  ],
  "metadata": {
    "colab": {
      "include_colab_link": true,
      "name": "test",
      "provenance": [],
      "toc_visible": true
    },
    "kernelspec": {
      "display_name": "Python 3",
      "name": "python3"
    }
  },
  "nbformat": 4,
  "nbformat_minor": 0
}
