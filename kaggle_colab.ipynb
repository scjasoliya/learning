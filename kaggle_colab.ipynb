{
  "cells": [
    {
      "cell_type": "markdown",
      "metadata": {
        "id": "view-in-github",
        "colab_type": "text"
      },
      "source": [
        "<a href=\"https://colab.research.google.com/github/scjasoliya/learning/blob/main/kaggle_colab.ipynb\" target=\"_parent\"><img src=\"https://colab.research.google.com/assets/colab-badge.svg\" alt=\"Open In Colab\"/></a>"
      ]
    },
    {
      "cell_type": "markdown",
      "metadata": {
        "id": "qSZa3e216g16"
      },
      "source": [
        "Check whether the notebook is running on Colab or Kaggle, and set HF_TOKEN"
      ]
    },
    {
      "cell_type": "code",
      "execution_count": null,
      "metadata": {
        "id": "tK_DHZp16g18"
      },
      "outputs": [],
      "source": [
        "import os, sys\n",
        "def get_environment():\n",
        "    # Colab signals\n",
        "    if any(k in os.environ for k in (\"COLAB_RELEASE_TAG\", \"COLAB_GPU\", \"COLAB_TPU_ADDR\")):\n",
        "        from google.colab import userdata # type: ignore\n",
        "        try:\n",
        "          os.environ[\"HF_TOKEN\"] = userdata.get(\"HF_TOKEN\")\n",
        "          os.environ[\"KAGGLE_USERNAME\"] = userdata.get('KAGGLE_USERNAME')\n",
        "          os.environ[\"KAGGLE_KEY\"] = userdata.get('KAGGLE_KEY')\n",
        "          print(os.environ[\"KAGGLE_USERNAME\"])\n",
        "          print(os.environ[\"KAGGLE_KEY\"])\n",
        "        except Exception:\n",
        "            # Ignore any error (module missing, permission denied, etc.)\n",
        "            pass\n",
        "        import kagglehub # type: ignore\n",
        "        kagglehub.login()\n",
        "        return 'colab'\n",
        "    # Kaggle signal\n",
        "    elif 'KAGGLE_KERNEL_RUN_TYPE' in os.environ:\n",
        "        from kaggle_secrets import UserSecretsClient # type: ignore\n",
        "        os.environ[\"HF_TOKEN\"] = UserSecretsClient().get_secret(\"HF_TOKEN\")\n",
        "        return 'kaggle'\n",
        "    else:\n",
        "        return 'local'\n",
        "env = get_environment()\n",
        "print(f\"Running on: {env}\")\n",
        "# check if Hugging Face token is set\n",
        "if not os.environ[\"HF_TOKEN\"]:\n",
        "        print(\"⚠️ Hugging Face token not found. Public models will still work.\")"
      ]
    },
    {
      "cell_type": "code",
      "execution_count": null,
      "metadata": {
        "id": "dVfNiAGk6g19"
      },
      "outputs": [],
      "source": [
        "try:\n",
        "    from huggingface_hub import login # type: ignore\n",
        "    login(os.environ[\"HF_TOKEN\"])\n",
        "    print(\"✅ Logged in to Hugging Face Hub.\")\n",
        "except Exception as e:\n",
        "    print(f\"❌ Login failed: {e}\", file=sys.stderr)"
      ]
    },
    {
      "cell_type": "code",
      "execution_count": null,
      "metadata": {
        "id": "yShZeNzL6g19"
      },
      "outputs": [],
      "source": [
        "# Construct path based on environment\n",
        "dataset_path= 'patelshailesh/abbreviations'\n",
        "owner, dataset_name = dataset_path.split('/')\n",
        "if env == 'colab':\n",
        "    import kagglehub\n",
        "    file_path = kagglehub.dataset_download(dataset_path)\n",
        "    print (file_path)\n",
        "    #file_path = os.path.join(dataset_path, filename)\n",
        "elif env == 'kaggle':\n",
        "    file_path = os.path.join('/kaggle/input', dataset_name)\n",
        "else:\n",
        "    raise ValueError(\"Unsupported environment. Use 'colab' or 'kaggle'.\")"
      ]
    },
    {
      "cell_type": "code",
      "source": [
        "import os\n",
        "for dirname, _, filenames in os.walk(file_path):\n",
        "    for filename in filenames:\n",
        "        print(os.path.join(dirname, filename))"
      ],
      "metadata": {
        "id": "1vTqzcmXFjmt"
      },
      "execution_count": null,
      "outputs": []
    },
    {
      "cell_type": "code",
      "execution_count": null,
      "metadata": {
        "id": "24u6yd3p6g19"
      },
      "outputs": [],
      "source": [
        "if env == 'colab':\n",
        "    %pip install transformers datasets --quiet\n",
        "elif env == 'kaggle':\n",
        "    %pip install transformers datasets --quiet"
      ]
    },
    {
      "cell_type": "code",
      "source": [],
      "metadata": {
        "id": "f6q24UnKHtnC"
      },
      "execution_count": null,
      "outputs": []
    },
    {
      "cell_type": "code",
      "execution_count": null,
      "metadata": {
        "id": "N_eJKPO66g19"
      },
      "outputs": [],
      "source": [
        "\n",
        "dataset_file1_name = \"ABBREVIATIONS_DICT.json\"\n",
        "dataset_file2_name = 'specific_csv_data.csv'\n",
        "dataset_file3_name = 'test_data.csv'"
      ]
    },
    {
      "cell_type": "code",
      "execution_count": null,
      "metadata": {
        "id": "arG3NIS66g1-"
      },
      "outputs": [],
      "source": []
    },
    {
      "cell_type": "code",
      "execution_count": null,
      "metadata": {
        "id": "eQ43FNYs6g1-"
      },
      "outputs": [],
      "source": []
    },
    {
      "cell_type": "code",
      "execution_count": null,
      "metadata": {
        "id": "oECTA3Ns6g1-"
      },
      "outputs": [],
      "source": []
    },
    {
      "cell_type": "code",
      "execution_count": null,
      "metadata": {
        "id": "CJS12fDV6g1-"
      },
      "outputs": [],
      "source": []
    },
    {
      "cell_type": "code",
      "execution_count": null,
      "metadata": {
        "id": "Z8QRp6z86g1-"
      },
      "outputs": [],
      "source": []
    },
    {
      "cell_type": "markdown",
      "metadata": {
        "id": "xHwagmab6g1-"
      },
      "source": [
        "!git config --global user.email \"you@example.com\"\n",
        "  !git config --global user.name \"Your Name\"\n",
        "  !git add notebook.ipynb\n",
        "  !git commit -m \"Update notebook\"\n",
        "  !git push origin main\n",
        "  ```"
      ]
    }
  ],
  "metadata": {
    "colab": {
      "name": "test",
      "provenance": [],
      "include_colab_link": true
    },
    "kernelspec": {
      "display_name": "Python 3",
      "name": "python3"
    }
  },
  "nbformat": 4,
  "nbformat_minor": 0
}