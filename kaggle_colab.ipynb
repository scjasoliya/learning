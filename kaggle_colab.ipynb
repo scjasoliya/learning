{
  "metadata": {
    "kernelspec": {
      "name": "python3",
      "display_name": "Python 3"
    },
    "language_info": {
      "name": "python",
      "version": "3.11.13",
      "mimetype": "text/x-python",
      "codemirror_mode": {
        "name": "ipython",
        "version": 3
      },
      "pygments_lexer": "ipython3",
      "nbconvert_exporter": "python",
      "file_extension": ".py"
    },
    "colab": {
      "name": "test",
      "provenance": [],
      "include_colab_link": true
    },
    "kaggle": {
      "accelerator": "none",
      "dataSources": [
        {
          "sourceId": 12640582,
          "sourceType": "datasetVersion",
          "datasetId": 7987903
        }
      ],
      "dockerImageVersionId": 31089,
      "isInternetEnabled": true,
      "language": "python",
      "sourceType": "notebook",
      "isGpuEnabled": false
    }
  },
  "nbformat_minor": 0,
  "nbformat": 4,
  "cells": [
    {
      "cell_type": "markdown",
      "metadata": {
        "id": "view-in-github",
        "colab_type": "text"
      },
      "source": [
        "<a href=\"https://colab.research.google.com/github/scjasoliya/learning/blob/main/kaggle_colab.ipynb\" target=\"_parent\"><img src=\"https://colab.research.google.com/assets/colab-badge.svg\" alt=\"Open In Colab\"/></a>"
      ]
    },
    {
      "cell_type": "markdown",
      "source": [
        "Check whether the notebook is running on Colab or Kaggle, and set HF_TOKEN"
      ],
      "metadata": {
        "id": "qSZa3e216g16"
      }
    },
    {
      "cell_type": "code",
      "source": [
        "import os, sys\n",
        "def get_environment():\n",
        "    # Colab signals\n",
        "    #if any(k in os.environ for k in (\"COLAB_RELEASE_TAG\", \"COLAB_GPU\", \"COLAB_TPU_ADDR\")):\n",
        "    if any(k in os.environ for k in (\"COLAB_GPU\", \"COLAB_TPU_ADDR\")):\n",
        "\n",
        "        from google.colab import userdata # type: ignore\n",
        "        try:\n",
        "          os.environ[\"HF_TOKEN\"] = userdata.get(\"HF_TOKEN\")\n",
        "          os.environ[\"KAGGLE_USERNAME\"] = userdata.get('KAGGLE_USERNAME')\n",
        "          os.environ[\"KAGGLE_KEY\"] = userdata.get('KAGGLE_KEY')\n",
        "          print(os.environ[\"KAGGLE_USERNAME\"])\n",
        "          print(os.environ[\"KAGGLE_KEY\"])\n",
        "        except Exception:\n",
        "            # Ignore any error (module missing, permission denied, etc.)\n",
        "            pass\n",
        "        import kagglehub # type: ignore\n",
        "        kagglehub.login()\n",
        "        return 'colab'\n",
        "    # Kaggle signal\n",
        "    elif 'KAGGLE_KERNEL_RUN_TYPE' in os.environ:\n",
        "        from kaggle_secrets import UserSecretsClient # type: ignore\n",
        "        os.environ[\"HF_TOKEN\"] = UserSecretsClient().get_secret(\"HF_TOKEN\")\n",
        "        return 'kaggle'\n",
        "    else:\n",
        "        return 'local'\n",
        "env = get_environment()\n",
        "print(f\"Running on: {env}\")\n",
        "print(os.environ[\"HF_TOKEN\"])\n",
        "# check if Hugging Face token is set\n",
        "if not os.environ[\"HF_TOKEN\"]:\n",
        "        print(\"⚠️ Hugging Face token not found. Public models will still work.\")"
      ],
      "metadata": {
        "id": "tK_DHZp16g18",
        "trusted": true,
        "execution": {
          "iopub.status.busy": "2025-08-15T14:52:59.541619Z",
          "iopub.execute_input": "2025-08-15T14:52:59.541907Z",
          "iopub.status.idle": "2025-08-15T14:52:59.686726Z",
          "shell.execute_reply.started": "2025-08-15T14:52:59.541886Z",
          "shell.execute_reply": "2025-08-15T14:52:59.685556Z"
        },
        "outputId": "41099386-f8e0-4cab-a4e1-6dcbe26fbdec"
      },
      "outputs": [
        {
          "name": "stdout",
          "text": "Running on: kaggle\n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\n",
          "output_type": "stream"
        }
      ],
      "execution_count": null
    },
    {
      "cell_type": "code",
      "source": [
        "try:\n",
        "    from huggingface_hub import login # type: ignore\n",
        "    login(os.environ[\"HF_TOKEN\"])\n",
        "    print(\"✅ Logged in to Hugging Face Hub.\")\n",
        "except Exception as e:\n",
        "    print(f\"❌ Login failed: {e}\", file=sys.stderr)"
      ],
      "metadata": {
        "id": "dVfNiAGk6g19",
        "trusted": true,
        "execution": {
          "iopub.status.busy": "2025-08-15T14:53:22.794797Z",
          "iopub.execute_input": "2025-08-15T14:53:22.795606Z",
          "iopub.status.idle": "2025-08-15T14:53:23.035525Z",
          "shell.execute_reply.started": "2025-08-15T14:53:22.795577Z",
          "shell.execute_reply": "2025-08-15T14:53:23.034679Z"
        },
        "outputId": "c6942355-7d4a-49b8-883b-e9e39e92028d"
      },
      "outputs": [
        {
          "name": "stderr",
          "text": "Note: Environment variable`HF_TOKEN` is set and is the current active token independently from the token you've just configured.\n",
          "output_type": "stream"
        },
        {
          "name": "stdout",
          "text": "✅ Logged in to Hugging Face Hub.\n",
          "output_type": "stream"
        }
      ],
      "execution_count": null
    },
    {
      "cell_type": "code",
      "source": [
        "# Construct path based on environment\n",
        "dataset_path= 'patelshailesh/abbreviations'\n",
        "owner, dataset_name = dataset_path.split('/')\n",
        "if env == 'colab':\n",
        "    import kagglehub\n",
        "    file_path = kagglehub.dataset_download(dataset_path)\n",
        "    print (file_path)\n",
        "    #file_path = os.path.join(dataset_path, filename)\n",
        "elif env == 'kaggle':\n",
        "    file_path = os.path.join('/kaggle/input', dataset_name)\n",
        "    print (file_path)\n",
        "else:\n",
        "    raise ValueError(\"Unsupported environment. Use 'colab' or 'kaggle'.\")"
      ],
      "metadata": {
        "id": "yShZeNzL6g19",
        "trusted": true,
        "execution": {
          "iopub.status.busy": "2025-08-15T14:54:31.657779Z",
          "iopub.execute_input": "2025-08-15T14:54:31.658134Z",
          "iopub.status.idle": "2025-08-15T14:54:31.663741Z",
          "shell.execute_reply.started": "2025-08-15T14:54:31.658110Z",
          "shell.execute_reply": "2025-08-15T14:54:31.662626Z"
        },
        "outputId": "2bf3f926-9a55-4bd3-8bbd-ef6b6ecd3e33"
      },
      "outputs": [
        {
          "name": "stdout",
          "text": "/kaggle/input/abbreviations\n",
          "output_type": "stream"
        }
      ],
      "execution_count": null
    },
    {
      "cell_type": "code",
      "source": [
        "import os\n",
        "for dirname, _, filenames in os.walk(file_path):\n",
        "    for filename in filenames:\n",
        "        print(os.path.join(dirname, filename))"
      ],
      "metadata": {
        "id": "1vTqzcmXFjmt",
        "trusted": true,
        "execution": {
          "iopub.status.busy": "2025-08-15T14:55:59.280220Z",
          "iopub.execute_input": "2025-08-15T14:55:59.280545Z",
          "iopub.status.idle": "2025-08-15T14:55:59.289859Z",
          "shell.execute_reply.started": "2025-08-15T14:55:59.280523Z",
          "shell.execute_reply": "2025-08-15T14:55:59.289008Z"
        },
        "outputId": "01fcc70a-767f-4361-f00a-0e0c9d2036f7"
      },
      "outputs": [
        {
          "name": "stdout",
          "text": "/kaggle/input/abbreviations/test_data.csv\n/kaggle/input/abbreviations/specific_csv_data.csv\n/kaggle/input/abbreviations/ABBREVIATIONS_DICT.json\n",
          "output_type": "stream"
        }
      ],
      "execution_count": null
    },
    {
      "cell_type": "markdown",
      "source": [
        "if env == 'colab':\n",
        "    %pip install transformers datasets --quiet\n",
        "elif env == 'kaggle':\n",
        "    %pip install transformers datasets --quiet"
      ],
      "metadata": {
        "id": "TwnwUVeG_e05"
      }
    },
    {
      "cell_type": "markdown",
      "source": [
        "!git config --global user.email \"you@example.com\"\n",
        "  !git config --global user.name \"Your Name\"\n",
        "  !git add notebook.ipynb\n",
        "  !git commit -m \"Update notebook\"\n",
        "  !git push origin main\n",
        "  ```"
      ],
      "metadata": {
        "id": "xHwagmab6g1-"
      }
    },
    {
      "cell_type": "code",
      "source": [
        "!pip install pymupdf\n",
        "!pip install pymupdf4llm"
      ],
      "metadata": {
        "colab": {
          "base_uri": "https://localhost:8080/"
        },
        "id": "vCpcASAyATGW",
        "outputId": "4de22362-455e-403c-a398-641d6112fa5d"
      },
      "execution_count": 1,
      "outputs": [
        {
          "output_type": "stream",
          "name": "stdout",
          "text": [
            "Collecting pymupdf\n",
            "  Downloading pymupdf-1.26.3-cp39-abi3-manylinux_2_28_x86_64.whl.metadata (3.4 kB)\n",
            "Downloading pymupdf-1.26.3-cp39-abi3-manylinux_2_28_x86_64.whl (24.1 MB)\n",
            "\u001b[2K   \u001b[90m━━━━━━━━━━━━━━━━━━━━━━━━━━━━━━━━━━━━━━━━\u001b[0m \u001b[32m24.1/24.1 MB\u001b[0m \u001b[31m46.1 MB/s\u001b[0m eta \u001b[36m0:00:00\u001b[0m\n",
            "\u001b[?25hInstalling collected packages: pymupdf\n",
            "Successfully installed pymupdf-1.26.3\n",
            "Collecting pymupdf4llm\n",
            "  Downloading pymupdf4llm-0.0.27-py3-none-any.whl.metadata (4.8 kB)\n",
            "Requirement already satisfied: pymupdf>=1.26.3 in /usr/local/lib/python3.11/dist-packages (from pymupdf4llm) (1.26.3)\n",
            "Downloading pymupdf4llm-0.0.27-py3-none-any.whl (30 kB)\n",
            "Installing collected packages: pymupdf4llm\n",
            "Successfully installed pymupdf4llm-0.0.27\n"
          ]
        }
      ]
    },
    {
      "cell_type": "code",
      "source": [
        "from google.colab import files\n",
        "\n",
        "uploaded = files.upload()\n",
        "\n",
        "if uploaded:\n",
        "    for filename, data in uploaded.items():\n",
        "        pdf_filename = filename\n",
        "        pdf_content = data\n",
        "        print(f\"Uploaded file: {pdf_filename}\")\n",
        "else:\n",
        "    print(\"No file was uploaded.\")"
      ],
      "metadata": {
        "id": "arG3NIS66g1-",
        "trusted": true,
        "colab": {
          "base_uri": "https://localhost:8080/",
          "height": 128
        },
        "outputId": "176b1af8-301d-4220-d421-860503bb6c12"
      },
      "outputs": [
        {
          "output_type": "display_data",
          "data": {
            "text/plain": [
              "<IPython.core.display.HTML object>"
            ],
            "text/html": [
              "\n",
              "     <input type=\"file\" id=\"files-3d7c4445-4328-43f3-ab2a-e49eca6c6128\" name=\"files[]\" multiple disabled\n",
              "        style=\"border:none\" />\n",
              "     <output id=\"result-3d7c4445-4328-43f3-ab2a-e49eca6c6128\">\n",
              "      Upload widget is only available when the cell has been executed in the\n",
              "      current browser session. Please rerun this cell to enable.\n",
              "      </output>\n",
              "      <script>// Copyright 2017 Google LLC\n",
              "//\n",
              "// Licensed under the Apache License, Version 2.0 (the \"License\");\n",
              "// you may not use this file except in compliance with the License.\n",
              "// You may obtain a copy of the License at\n",
              "//\n",
              "//      http://www.apache.org/licenses/LICENSE-2.0\n",
              "//\n",
              "// Unless required by applicable law or agreed to in writing, software\n",
              "// distributed under the License is distributed on an \"AS IS\" BASIS,\n",
              "// WITHOUT WARRANTIES OR CONDITIONS OF ANY KIND, either express or implied.\n",
              "// See the License for the specific language governing permissions and\n",
              "// limitations under the License.\n",
              "\n",
              "/**\n",
              " * @fileoverview Helpers for google.colab Python module.\n",
              " */\n",
              "(function(scope) {\n",
              "function span(text, styleAttributes = {}) {\n",
              "  const element = document.createElement('span');\n",
              "  element.textContent = text;\n",
              "  for (const key of Object.keys(styleAttributes)) {\n",
              "    element.style[key] = styleAttributes[key];\n",
              "  }\n",
              "  return element;\n",
              "}\n",
              "\n",
              "// Max number of bytes which will be uploaded at a time.\n",
              "const MAX_PAYLOAD_SIZE = 100 * 1024;\n",
              "\n",
              "function _uploadFiles(inputId, outputId) {\n",
              "  const steps = uploadFilesStep(inputId, outputId);\n",
              "  const outputElement = document.getElementById(outputId);\n",
              "  // Cache steps on the outputElement to make it available for the next call\n",
              "  // to uploadFilesContinue from Python.\n",
              "  outputElement.steps = steps;\n",
              "\n",
              "  return _uploadFilesContinue(outputId);\n",
              "}\n",
              "\n",
              "// This is roughly an async generator (not supported in the browser yet),\n",
              "// where there are multiple asynchronous steps and the Python side is going\n",
              "// to poll for completion of each step.\n",
              "// This uses a Promise to block the python side on completion of each step,\n",
              "// then passes the result of the previous step as the input to the next step.\n",
              "function _uploadFilesContinue(outputId) {\n",
              "  const outputElement = document.getElementById(outputId);\n",
              "  const steps = outputElement.steps;\n",
              "\n",
              "  const next = steps.next(outputElement.lastPromiseValue);\n",
              "  return Promise.resolve(next.value.promise).then((value) => {\n",
              "    // Cache the last promise value to make it available to the next\n",
              "    // step of the generator.\n",
              "    outputElement.lastPromiseValue = value;\n",
              "    return next.value.response;\n",
              "  });\n",
              "}\n",
              "\n",
              "/**\n",
              " * Generator function which is called between each async step of the upload\n",
              " * process.\n",
              " * @param {string} inputId Element ID of the input file picker element.\n",
              " * @param {string} outputId Element ID of the output display.\n",
              " * @return {!Iterable<!Object>} Iterable of next steps.\n",
              " */\n",
              "function* uploadFilesStep(inputId, outputId) {\n",
              "  const inputElement = document.getElementById(inputId);\n",
              "  inputElement.disabled = false;\n",
              "\n",
              "  const outputElement = document.getElementById(outputId);\n",
              "  outputElement.innerHTML = '';\n",
              "\n",
              "  const pickedPromise = new Promise((resolve) => {\n",
              "    inputElement.addEventListener('change', (e) => {\n",
              "      resolve(e.target.files);\n",
              "    });\n",
              "  });\n",
              "\n",
              "  const cancel = document.createElement('button');\n",
              "  inputElement.parentElement.appendChild(cancel);\n",
              "  cancel.textContent = 'Cancel upload';\n",
              "  const cancelPromise = new Promise((resolve) => {\n",
              "    cancel.onclick = () => {\n",
              "      resolve(null);\n",
              "    };\n",
              "  });\n",
              "\n",
              "  // Wait for the user to pick the files.\n",
              "  const files = yield {\n",
              "    promise: Promise.race([pickedPromise, cancelPromise]),\n",
              "    response: {\n",
              "      action: 'starting',\n",
              "    }\n",
              "  };\n",
              "\n",
              "  cancel.remove();\n",
              "\n",
              "  // Disable the input element since further picks are not allowed.\n",
              "  inputElement.disabled = true;\n",
              "\n",
              "  if (!files) {\n",
              "    return {\n",
              "      response: {\n",
              "        action: 'complete',\n",
              "      }\n",
              "    };\n",
              "  }\n",
              "\n",
              "  for (const file of files) {\n",
              "    const li = document.createElement('li');\n",
              "    li.append(span(file.name, {fontWeight: 'bold'}));\n",
              "    li.append(span(\n",
              "        `(${file.type || 'n/a'}) - ${file.size} bytes, ` +\n",
              "        `last modified: ${\n",
              "            file.lastModifiedDate ? file.lastModifiedDate.toLocaleDateString() :\n",
              "                                    'n/a'} - `));\n",
              "    const percent = span('0% done');\n",
              "    li.appendChild(percent);\n",
              "\n",
              "    outputElement.appendChild(li);\n",
              "\n",
              "    const fileDataPromise = new Promise((resolve) => {\n",
              "      const reader = new FileReader();\n",
              "      reader.onload = (e) => {\n",
              "        resolve(e.target.result);\n",
              "      };\n",
              "      reader.readAsArrayBuffer(file);\n",
              "    });\n",
              "    // Wait for the data to be ready.\n",
              "    let fileData = yield {\n",
              "      promise: fileDataPromise,\n",
              "      response: {\n",
              "        action: 'continue',\n",
              "      }\n",
              "    };\n",
              "\n",
              "    // Use a chunked sending to avoid message size limits. See b/62115660.\n",
              "    let position = 0;\n",
              "    do {\n",
              "      const length = Math.min(fileData.byteLength - position, MAX_PAYLOAD_SIZE);\n",
              "      const chunk = new Uint8Array(fileData, position, length);\n",
              "      position += length;\n",
              "\n",
              "      const base64 = btoa(String.fromCharCode.apply(null, chunk));\n",
              "      yield {\n",
              "        response: {\n",
              "          action: 'append',\n",
              "          file: file.name,\n",
              "          data: base64,\n",
              "        },\n",
              "      };\n",
              "\n",
              "      let percentDone = fileData.byteLength === 0 ?\n",
              "          100 :\n",
              "          Math.round((position / fileData.byteLength) * 100);\n",
              "      percent.textContent = `${percentDone}% done`;\n",
              "\n",
              "    } while (position < fileData.byteLength);\n",
              "  }\n",
              "\n",
              "  // All done.\n",
              "  yield {\n",
              "    response: {\n",
              "      action: 'complete',\n",
              "    }\n",
              "  };\n",
              "}\n",
              "\n",
              "scope.google = scope.google || {};\n",
              "scope.google.colab = scope.google.colab || {};\n",
              "scope.google.colab._files = {\n",
              "  _uploadFiles,\n",
              "  _uploadFilesContinue,\n",
              "};\n",
              "})(self);\n",
              "</script> "
            ]
          },
          "metadata": {}
        },
        {
          "output_type": "stream",
          "name": "stdout",
          "text": [
            "Saving SAES-J-505_Combustible Gas and Hydrogen Sulfide in Air Detection Systems.PDF to SAES-J-505_Combustible Gas and Hydrogen Sulfide in Air Detection Systems.PDF\n",
            "Uploaded file: SAES-J-505_Combustible Gas and Hydrogen Sulfide in Air Detection Systems.PDF\n"
          ]
        }
      ],
      "execution_count": 33
    },
    {
      "cell_type": "code",
      "source": [
        "import pymupdf4llm\n",
        "import fitz\n",
        "from google.colab import files\n",
        "\n",
        "try:\n",
        "    # Load the PDF content using PyMuPDF\n",
        "    pdf_document = fitz.open(stream=pdf_content, filetype=\"pdf\")\n",
        "    markdown_content = pymupdf4llm.to_markdown(pdf_document)\n",
        "\n",
        "    # Save the markdown content to a file\n",
        "    markdown_filename = pdf_filename.replace(\".pdf\", \".md\")\n",
        "    with open(markdown_filename, \"w\", encoding=\"utf-8\") as f:\n",
        "        f.write(markdown_content)\n",
        "\n",
        "    # Provide a download link\n",
        "    files.download(markdown_filename)\n",
        "\n",
        "    pdf_document.close()\n",
        "    print(\"✅ PDF converted to Markdown and downloaded.\")\n",
        "except Exception as e:\n",
        "    print(f\"❌ Error converting PDF to Markdown: {e}\")"
      ],
      "metadata": {
        "id": "eQ43FNYs6g1-",
        "trusted": true,
        "colab": {
          "base_uri": "https://localhost:8080/",
          "height": 35
        },
        "outputId": "06c0ee74-fb5d-4f03-ced5-2b4a06d18803"
      },
      "outputs": [
        {
          "output_type": "display_data",
          "data": {
            "text/plain": [
              "<IPython.core.display.Javascript object>"
            ],
            "application/javascript": [
              "\n",
              "    async function download(id, filename, size) {\n",
              "      if (!google.colab.kernel.accessAllowed) {\n",
              "        return;\n",
              "      }\n",
              "      const div = document.createElement('div');\n",
              "      const label = document.createElement('label');\n",
              "      label.textContent = `Downloading \"${filename}\": `;\n",
              "      div.appendChild(label);\n",
              "      const progress = document.createElement('progress');\n",
              "      progress.max = size;\n",
              "      div.appendChild(progress);\n",
              "      document.body.appendChild(div);\n",
              "\n",
              "      const buffers = [];\n",
              "      let downloaded = 0;\n",
              "\n",
              "      const channel = await google.colab.kernel.comms.open(id);\n",
              "      // Send a message to notify the kernel that we're ready.\n",
              "      channel.send({})\n",
              "\n",
              "      for await (const message of channel.messages) {\n",
              "        // Send a message to notify the kernel that we're ready.\n",
              "        channel.send({})\n",
              "        if (message.buffers) {\n",
              "          for (const buffer of message.buffers) {\n",
              "            buffers.push(buffer);\n",
              "            downloaded += buffer.byteLength;\n",
              "            progress.value = downloaded;\n",
              "          }\n",
              "        }\n",
              "      }\n",
              "      const blob = new Blob(buffers, {type: 'application/binary'});\n",
              "      const a = document.createElement('a');\n",
              "      a.href = window.URL.createObjectURL(blob);\n",
              "      a.download = filename;\n",
              "      div.appendChild(a);\n",
              "      a.click();\n",
              "      div.remove();\n",
              "    }\n",
              "  "
            ]
          },
          "metadata": {}
        },
        {
          "output_type": "display_data",
          "data": {
            "text/plain": [
              "<IPython.core.display.Javascript object>"
            ],
            "application/javascript": [
              "download(\"download_4fb25e88-1595-4400-9e6a-9acfa1879a58\", \"SAES-J-505_Combustible Gas and Hydrogen Sulfide in Air Detection Systems.PDF\", 32772)"
            ]
          },
          "metadata": {}
        },
        {
          "output_type": "stream",
          "name": "stdout",
          "text": [
            "✅ PDF converted to Markdown and downloaded.\n"
          ]
        }
      ],
      "execution_count": 34
    },
    {
      "cell_type": "code",
      "source": [],
      "metadata": {
        "id": "oECTA3Ns6g1-",
        "trusted": true
      },
      "outputs": [],
      "execution_count": null
    },
    {
      "cell_type": "code",
      "source": [],
      "metadata": {
        "id": "CJS12fDV6g1-",
        "trusted": true
      },
      "outputs": [],
      "execution_count": null
    },
    {
      "cell_type": "code",
      "source": [],
      "metadata": {
        "id": "Z8QRp6z86g1-",
        "trusted": true
      },
      "outputs": [],
      "execution_count": null
    }
  ]
}