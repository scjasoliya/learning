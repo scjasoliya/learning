{
  "metadata": {
    "kernelspec": {
      "name": "python3",
      "display_name": "Python 3",
      "language": "python"
    },
    "language_info": {
      "name": "python",
      "version": "3.11.13",
      "mimetype": "text/x-python",
      "codemirror_mode": {
        "name": "ipython",
        "version": 3
      },
      "pygments_lexer": "ipython3",
      "nbconvert_exporter": "python",
      "file_extension": ".py"
    },
    "colab": {
      "name": "test",
      "provenance": []
    },
    "kaggle": {
      "accelerator": "none",
      "dataSources": [
        {
          "sourceId": 12640582,
          "sourceType": "datasetVersion",
          "datasetId": 7987903
        }
      ],
      "dockerImageVersionId": 31089,
      "isInternetEnabled": true,
      "language": "python",
      "sourceType": "notebook",
      "isGpuEnabled": false
    }
  },
  "nbformat_minor": 0,
  "nbformat": 4,
  "cells": [
    {
      "cell_type": "markdown",
      "source": [
        "Check whether the notebook is running on Colab or Kaggle, and set HF_TOKEN"
      ],
      "metadata": {
        "id": "qSZa3e216g16"
      }
    },
    {
      "cell_type": "code",
      "source": [
        "import os, sys\n",
        "def get_environment():\n",
        "    # Colab signals\n",
        "    #if any(k in os.environ for k in (\"COLAB_RELEASE_TAG\", \"COLAB_GPU\", \"COLAB_TPU_ADDR\")):\n",
        "    if any(k in os.environ for k in (\"COLAB_GPU\", \"COLAB_TPU_ADDR\")):\n",
        "\n",
        "        from google.colab import userdata # type: ignore\n",
        "        try:\n",
        "          os.environ[\"HF_TOKEN\"] = userdata.get(\"HF_TOKEN\")\n",
        "          os.environ[\"KAGGLE_USERNAME\"] = userdata.get('KAGGLE_USERNAME')\n",
        "          os.environ[\"KAGGLE_KEY\"] = userdata.get('KAGGLE_KEY')\n",
        "          print(os.environ[\"KAGGLE_USERNAME\"])\n",
        "          print(os.environ[\"KAGGLE_KEY\"])\n",
        "        except Exception:\n",
        "            # Ignore any error (module missing, permission denied, etc.)\n",
        "            pass\n",
        "        import kagglehub # type: ignore\n",
        "        kagglehub.login()\n",
        "        return 'colab'\n",
        "    # Kaggle signal\n",
        "    elif 'KAGGLE_KERNEL_RUN_TYPE' in os.environ:\n",
        "        from kaggle_secrets import UserSecretsClient # type: ignore\n",
        "        os.environ[\"HF_TOKEN\"] = UserSecretsClient().get_secret(\"HF_TOKEN\")\n",
        "        return 'kaggle'\n",
        "    else:\n",
        "        return 'local'\n",
        "env = get_environment()\n",
        "print(f\"Running on: {env}\")\n",
        "print(os.environ[\"HF_TOKEN\"])\n",
        "# check if Hugging Face token is set\n",
        "if not os.environ[\"HF_TOKEN\"]:\n",
        "        print(\"⚠️ Hugging Face token not found. Public models will still work.\")"
      ],
      "metadata": {
        "id": "tK_DHZp16g18",
        "trusted": true,
        "execution": {
          "iopub.status.busy": "2025-08-15T14:52:59.541619Z",
          "iopub.execute_input": "2025-08-15T14:52:59.541907Z",
          "iopub.status.idle": "2025-08-15T14:52:59.686726Z",
          "shell.execute_reply.started": "2025-08-15T14:52:59.541886Z",
          "shell.execute_reply": "2025-08-15T14:52:59.685556Z"
        },
        "outputId": "4808fc77-7a20-4afb-c8cd-c1a19ab1089f"
      },
      "outputs": [
        {
          "name": "stdout",
          "text": "Running on: kaggle\n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\n",
          "output_type": "stream"
        }
      ],
      "execution_count": null
    },
    {
      "cell_type": "code",
      "source": [
        "try:\n",
        "    from huggingface_hub import login # type: ignore\n",
        "    login(os.environ[\"HF_TOKEN\"])\n",
        "    print(\"✅ Logged in to Hugging Face Hub.\")\n",
        "except Exception as e:\n",
        "    print(f\"❌ Login failed: {e}\", file=sys.stderr)"
      ],
      "metadata": {
        "id": "dVfNiAGk6g19",
        "trusted": true,
        "execution": {
          "iopub.status.busy": "2025-08-15T14:53:22.794797Z",
          "iopub.execute_input": "2025-08-15T14:53:22.795606Z",
          "iopub.status.idle": "2025-08-15T14:53:23.035525Z",
          "shell.execute_reply.started": "2025-08-15T14:53:22.795577Z",
          "shell.execute_reply": "2025-08-15T14:53:23.034679Z"
        },
        "outputId": "a6b6d29c-27c2-4b07-9d01-32d4261475b0"
      },
      "outputs": [
        {
          "name": "stderr",
          "text": "Note: Environment variable`HF_TOKEN` is set and is the current active token independently from the token you've just configured.\n",
          "output_type": "stream"
        },
        {
          "name": "stdout",
          "text": "✅ Logged in to Hugging Face Hub.\n",
          "output_type": "stream"
        }
      ],
      "execution_count": null
    },
    {
      "cell_type": "code",
      "source": [
        "# Construct path based on environment\n",
        "dataset_path= 'patelshailesh/abbreviations'\n",
        "owner, dataset_name = dataset_path.split('/')\n",
        "if env == 'colab':\n",
        "    import kagglehub\n",
        "    file_path = kagglehub.dataset_download(dataset_path)\n",
        "    print (file_path)\n",
        "    #file_path = os.path.join(dataset_path, filename)\n",
        "elif env == 'kaggle':\n",
        "    file_path = os.path.join('/kaggle/input', dataset_name)\n",
        "    print (file_path)\n",
        "else:\n",
        "    raise ValueError(\"Unsupported environment. Use 'colab' or 'kaggle'.\")"
      ],
      "metadata": {
        "id": "yShZeNzL6g19",
        "trusted": true,
        "execution": {
          "iopub.status.busy": "2025-08-15T14:54:31.657779Z",
          "iopub.execute_input": "2025-08-15T14:54:31.658134Z",
          "iopub.status.idle": "2025-08-15T14:54:31.663741Z",
          "shell.execute_reply.started": "2025-08-15T14:54:31.658110Z",
          "shell.execute_reply": "2025-08-15T14:54:31.662626Z"
        },
        "outputId": "af876ffe-beab-4929-8ce7-b8c15cbcab2b"
      },
      "outputs": [
        {
          "name": "stdout",
          "text": "/kaggle/input/abbreviations\n",
          "output_type": "stream"
        }
      ],
      "execution_count": null
    },
    {
      "cell_type": "code",
      "source": [
        "import os\n",
        "for dirname, _, filenames in os.walk(file_path):\n",
        "    for filename in filenames:\n",
        "        print(os.path.join(dirname, filename))"
      ],
      "metadata": {
        "id": "1vTqzcmXFjmt",
        "trusted": true,
        "execution": {
          "iopub.status.busy": "2025-08-15T14:55:59.280220Z",
          "iopub.execute_input": "2025-08-15T14:55:59.280545Z",
          "iopub.status.idle": "2025-08-15T14:55:59.289859Z",
          "shell.execute_reply.started": "2025-08-15T14:55:59.280523Z",
          "shell.execute_reply": "2025-08-15T14:55:59.289008Z"
        },
        "outputId": "d7839078-0564-4dfc-8583-f9d558753025"
      },
      "outputs": [
        {
          "name": "stdout",
          "text": "/kaggle/input/abbreviations/test_data.csv\n/kaggle/input/abbreviations/specific_csv_data.csv\n/kaggle/input/abbreviations/ABBREVIATIONS_DICT.json\n",
          "output_type": "stream"
        }
      ],
      "execution_count": null
    },
    {
      "cell_type": "markdown",
      "source": [
        "if env == 'colab':\n",
        "    %pip install transformers datasets --quiet\n",
        "elif env == 'kaggle':\n",
        "    %pip install transformers datasets --quiet"
      ],
      "metadata": {
        "id": "2LeL5HAyQ4n_"
      }
    },
    {
      "cell_type": "markdown",
      "source": [
        "!git config --global user.email \"you@example.com\"\n",
        "  !git config --global user.name \"Your Name\"\n",
        "  !git add notebook.ipynb\n",
        "  !git commit -m \"Update notebook\"\n",
        "  !git push origin main\n",
        "  ```"
      ],
      "metadata": {
        "id": "xHwagmab6g1-"
      }
    },
    {
      "cell_type": "code",
      "source": [],
      "metadata": {
        "id": "arG3NIS66g1-",
        "trusted": true
      },
      "outputs": [],
      "execution_count": null
    },
    {
      "cell_type": "code",
      "source": [],
      "metadata": {
        "id": "eQ43FNYs6g1-",
        "trusted": true
      },
      "outputs": [],
      "execution_count": null
    },
    {
      "cell_type": "code",
      "source": [],
      "metadata": {
        "id": "oECTA3Ns6g1-",
        "trusted": true
      },
      "outputs": [],
      "execution_count": null
    },
    {
      "cell_type": "code",
      "source": [],
      "metadata": {
        "id": "CJS12fDV6g1-",
        "trusted": true
      },
      "outputs": [],
      "execution_count": null
    },
    {
      "cell_type": "code",
      "source": [],
      "metadata": {
        "id": "Z8QRp6z86g1-",
        "trusted": true
      },
      "outputs": [],
      "execution_count": null
    }
  ]
}